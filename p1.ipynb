{
 "cells": [
  {
   "cell_type": "code",
   "execution_count": null,
   "metadata": {},
   "outputs": [],
   "source": [
    "import random\n",
    "\n",
    "# تعريف المتغيرات\n",
    "number_of_rounds = 3\n",
    "player_choice = None\n",
    "computer_choice = None\n",
    "winner = None\n",
    "\n",
    "# تعريف القواعد\n",
    "def compare_choices(player_choice, computer_choice):\n",
    "    if player_choice == \"rock\":\n",
    "        if computer_choice == \"scissors\":\n",
    "            return \"player\"\n",
    "        else:\n",
    "            return \"computer\"\n",
    "    elif player_choice == \"scissors\":\n",
    "        if computer_choice == \"paper\":\n",
    "            return \"player\"\n",
    "        else:\n",
    "            return \"computer\"\n",
    "    elif player_choice == \"paper\":\n",
    "        if computer_choice == \"rock\":\n",
    "            return \"player\"\n",
    "        else:\n",
    "            return \"computer\"\n",
    "\n",
    "# بدء اللعبة\n",
    "print(\"مرحبًا بك في لعبة حجرة ورقه مقص!\")\n",
    "for i in range(number_of_rounds):\n",
    "    # طلب اختيار اللاعب\n",
    "    print(f\"جولة {i + 1}:\")\n",
    "    print(\"يرجى اختيارك: rock, scissors, أو paper\")\n",
    "    player_choice = input().lower()\n",
    "\n",
    "    # اختيار الكمبيوتر\n",
    "    computer_choice = random.randint(0, 2)\n",
    "\n",
    "    # مقارنة الخيارات\n",
    "    winner = compare_choices(player_choice, computer_choice)\n",
    "\n",
    "    # عرض النتائج\n",
    "    if winner == \"player\":\n",
    "        print(\"مبروك! لقد فزت!\")\n",
    "    elif winner == \"computer\":\n",
    "        print(\"لقد خسرت!\")\n",
    "    else:\n",
    "        print(\"تعادل!\")\n",
    "\n",
    "    # سؤال اللاعب إذا كان يريد اللعب مرة أخرى\n",
    "    print(\"هل تريد اللعب مرة أخرى؟ (نعم أو لا)\")\n",
    "    play_again = input().lower()\n",
    "    if play_again != \"نعم\":\n",
    "        break"
   ]
  }
 ],
 "metadata": {
  "kernelspec": {
   "display_name": "Python 3",
   "language": "python",
   "name": "python3"
  },
  "language_info": {
   "codemirror_mode": {
    "name": "ipython",
    "version": 3
   },
   "file_extension": ".py",
   "mimetype": "text/x-python",
   "name": "python",
   "nbconvert_exporter": "python",
   "pygments_lexer": "ipython3",
   "version": "3.12.1"
  }
 },
 "nbformat": 4,
 "nbformat_minor": 2
}
